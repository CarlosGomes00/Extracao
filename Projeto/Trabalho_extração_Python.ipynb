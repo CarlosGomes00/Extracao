{
 "cells": [
  {
   "cell_type": "markdown",
   "metadata": {},
   "source": [
    "# Trabalho de extração"
   ]
  },
  {
   "cell_type": "markdown",
   "metadata": {},
   "source": [
    "## Carregamento dos dados e pré-processamento"
   ]
  },
  {
   "cell_type": "code",
   "execution_count": 136,
   "metadata": {},
   "outputs": [],
   "source": [
    "import pandas as pd\n",
    "\n",
    "# Leitura de dados\n",
    "RNA_cpm = pd.read_csv(\"data_mrna_seq_cpm.txt\", index_col=0, header = 0, sep=\"\\t\")\n",
    "meta_patient = pd.read_csv(\"data_clinical_patient.txt\", sep=\"\\t\", skiprows=4, index_col=0)\n",
    "meta_sample = pd.read_csv(\"data_clinical_sample.txt\", sep=\"\\t\", skiprows=4, index_col=0)"
   ]
  },
  {
   "cell_type": "code",
   "execution_count": 137,
   "metadata": {},
   "outputs": [
    {
     "name": "stdout",
     "output_type": "stream",
     "text": [
      "<class 'pandas.core.frame.DataFrame'>\n",
      "Index: 22843 entries, TSPAN6 to RP11-114I8.4\n",
      "Columns: 452 entries, Entrez_Gene_Id to aml_ohsu_2018_16-01272\n",
      "dtypes: float64(452)\n",
      "memory usage: 78.9+ MB\n",
      "None\n",
      "             Entrez_Gene_Id  aml_ohsu_2018_12-00023  aml_ohsu_2018_12-00051  \\\n",
      "Hugo_Symbol                                                                   \n",
      "TSPAN6                  NaN                0.220678                1.659656   \n",
      "DPM1                    NaN               29.791548               29.363142   \n",
      "SCYL3                   NaN               19.336921               18.734961   \n",
      "C1orf112                NaN                6.868607                2.617150   \n",
      "FGR                     NaN              801.392633               17.266804   \n",
      "\n",
      "             aml_ohsu_2018_12-00066  aml_ohsu_2018_12-00150  \\\n",
      "Hugo_Symbol                                                   \n",
      "TSPAN6                     0.070215                1.709459   \n",
      "DPM1                      23.311415               32.137834   \n",
      "SCYL3                     10.532266               17.778376   \n",
      "C1orf112                  11.129094               11.253940   \n",
      "FGR                      906.792960               49.004499   \n",
      "\n",
      "             aml_ohsu_2018_12-00211  aml_ohsu_2018_12-00258  \\\n",
      "Hugo_Symbol                                                   \n",
      "TSPAN6                     0.000000                0.000000   \n",
      "DPM1                      25.117470               29.351673   \n",
      "SCYL3                     37.659392               15.647852   \n",
      "C1orf112                  12.541923                8.190423   \n",
      "FGR                      111.834945             1004.458236   \n",
      "\n",
      "             aml_ohsu_2018_12-00294  aml_ohsu_2018_12-00372  \\\n",
      "Hugo_Symbol                                                   \n",
      "TSPAN6                     0.000000                0.921085   \n",
      "DPM1                      31.240770               22.940781   \n",
      "SCYL3                     39.189992               33.734750   \n",
      "C1orf112                  18.875313               11.110592   \n",
      "FGR                      267.852800              170.631056   \n",
      "\n",
      "             aml_ohsu_2018_12-00423  ...  aml_ohsu_2018_16-01216  \\\n",
      "Hugo_Symbol                          ...                           \n",
      "TSPAN6                     0.419787  ...                0.648789   \n",
      "DPM1                      23.764632  ...               34.238344   \n",
      "SCYL3                     17.724358  ...               13.477109   \n",
      "C1orf112                  11.357582  ...                5.721136   \n",
      "FGR                      214.231512  ...              583.113507   \n",
      "\n",
      "             aml_ohsu_2018_16-01219  aml_ohsu_2018_16-01223  \\\n",
      "Hugo_Symbol                                                   \n",
      "TSPAN6                     0.085224                1.024195   \n",
      "DPM1                      28.607021               30.376699   \n",
      "SCYL3                     20.823184               21.065833   \n",
      "C1orf112                  16.874449                6.494329   \n",
      "FGR                       22.300408               55.469482   \n",
      "\n",
      "             aml_ohsu_2018_16-01225  aml_ohsu_2018_16-01227  \\\n",
      "Hugo_Symbol                                                   \n",
      "TSPAN6                     0.367642                0.395749   \n",
      "DPM1                      35.976402               25.101824   \n",
      "SCYL3                     23.765434               17.950065   \n",
      "C1orf112                  16.465113                6.105849   \n",
      "FGR                       18.854786               24.508199   \n",
      "\n",
      "             aml_ohsu_2018_16-01237  aml_ohsu_2018_16-01254  \\\n",
      "Hugo_Symbol                                                   \n",
      "TSPAN6                     0.249059                0.069569   \n",
      "DPM1                      38.785308               25.717446   \n",
      "SCYL3                      7.245358               21.496909   \n",
      "C1orf112                   4.845333               10.551342   \n",
      "FGR                       77.751751             1278.683475   \n",
      "\n",
      "             aml_ohsu_2018_16-01262  aml_ohsu_2018_16-01270  \\\n",
      "Hugo_Symbol                                                   \n",
      "TSPAN6                     0.142059                0.150957   \n",
      "DPM1                      33.703438               16.575035   \n",
      "SCYL3                     16.461058               16.212740   \n",
      "C1orf112                   8.647826                6.944004   \n",
      "FGR                       45.565344               51.898882   \n",
      "\n",
      "             aml_ohsu_2018_16-01272  \n",
      "Hugo_Symbol                          \n",
      "TSPAN6                     0.451810  \n",
      "DPM1                      25.928877  \n",
      "SCYL3                      8.734994  \n",
      "C1orf112                   8.785195  \n",
      "FGR                      563.758544  \n",
      "\n",
      "[5 rows x 452 columns]\n"
     ]
    }
   ],
   "source": [
    "print(RNA_cpm.info())\n",
    "print(RNA_cpm.head())"
   ]
  },
  {
   "cell_type": "markdown",
   "metadata": {},
   "source": [
    "Verificámos assim que o dataset é um dataframe com uma dimensão de 22843 entradas nas linhas, correspondentes aos genes, e 452 colunas, correspondentes às amostras. Dado que a coluna 'Entrez_Gene_Id' aparenta estar vazia, a dimensão do dataset é a esperada, apresentando 22843 genes e 451 amostras.\n",
    "De seguida, procedemos à eliminção da coluna com valores omissos e verificação de duplicados no nome dos genes. "
   ]
  },
  {
   "cell_type": "code",
   "execution_count": 138,
   "metadata": {},
   "outputs": [
    {
     "name": "stdout",
     "output_type": "stream",
     "text": [
      "Dimensão original do dataframe: (22843, 452)\n",
      "Há valores nulos no dataframe.\n",
      "Dimensão do dataframe após remoção da coluna vazia: (22843, 451)\n",
      "Já não há valores nulos no dataframe.\n"
     ]
    }
   ],
   "source": [
    "print('Dimensão original do dataframe:', RNA_cpm.shape)\n",
    "# Verificar se há valores nulos\n",
    "if RNA_cpm.isna().sum().sum() != 0:\n",
    "    print('Há valores nulos no dataframe.')\n",
    "# Retirar a coluna 'Entrez_Gene_Id'\n",
    "RNA_cpm = RNA_cpm.drop(columns=['Entrez_Gene_Id'])\n",
    "print('Dimensão do dataframe após remoção da coluna vazia:', RNA_cpm.shape)\n",
    "if RNA_cpm.isna().sum().sum() == 0:\n",
    "    print('Já não há valores nulos no dataframe.')"
   ]
  },
  {
   "cell_type": "code",
   "execution_count": 139,
   "metadata": {},
   "outputs": [
    {
     "name": "stdout",
     "output_type": "stream",
     "text": [
      "Há 6 genes duplicados:\n",
      " Index(['BTBD8', 'COMMD9', 'S1PR3', 'MYO18A', 'ENO1', 'MACF1'], dtype='object', name='Hugo_Symbol')\n"
     ]
    }
   ],
   "source": [
    "# Verificação de nome de genes duplicados\n",
    "duplicated_genes = RNA_cpm[RNA_cpm.index.duplicated(keep= \"first\") ].index\n",
    "if duplicated_genes.size == 0:\n",
    "    print('Não há genes duplicados.')\n",
    "else:\n",
    "    print(f'Há {len(duplicated_genes)} genes duplicados:\\n', duplicated_genes)"
   ]
  },
  {
   "cell_type": "code",
   "execution_count": 140,
   "metadata": {
    "vscode": {
     "languageId": "ruby"
    }
   },
   "outputs": [],
   "source": [
    "# Rename duplicated genes\n",
    "def renomear_duplicados(dados):\n",
    "    index_list = dados.index.tolist()\n",
    "    for gene_dup in duplicated_genes:\n",
    "        for pos, gene in enumerate(dados.index):\n",
    "            if gene == gene_dup:\n",
    "                index_list[pos] = gene + \"_duplicado\"\n",
    "                print(index_list[pos])\n",
    "                break            \n",
    "    dados.index = index_list\n",
    "    if dados[dados.index.duplicated()].index.size == 0:\n",
    "        return \"Não há genes duplicados\"\n",
    "    else:\n",
    "        return \"Ainda há genes duplicados\""
   ]
  },
  {
   "cell_type": "code",
   "execution_count": 141,
   "metadata": {},
   "outputs": [
    {
     "name": "stdout",
     "output_type": "stream",
     "text": [
      "BTBD8_duplicado\n",
      "COMMD9_duplicado\n",
      "S1PR3_duplicado\n",
      "MYO18A_duplicado\n",
      "ENO1_duplicado\n",
      "MACF1_duplicado\n"
     ]
    },
    {
     "data": {
      "text/plain": [
       "'Não há genes duplicados'"
      ]
     },
     "execution_count": 141,
     "metadata": {},
     "output_type": "execute_result"
    }
   ],
   "source": [
    "# Renomeando duplicados\n",
    "renomear_duplicados(RNA_cpm)"
   ]
  },
  {
   "cell_type": "code",
   "execution_count": 142,
   "metadata": {},
   "outputs": [
    {
     "name": "stdout",
     "output_type": "stream",
     "text": [
      "BTBD8 estava duplicado, mas o duplicado foi renomeado com sucesso\n"
     ]
    }
   ],
   "source": [
    "if 'BTBD8' in RNA_cpm.index and 'BTBD8_duplicado' in RNA_cpm.index:\n",
    "    print(\"BTBD8 estava duplicado, mas o duplicado foi renomeado com sucesso\")"
   ]
  },
  {
   "cell_type": "markdown",
   "metadata": {},
   "source": [
    "## Pré-processamento de metadados\n"
   ]
  },
  {
   "cell_type": "code",
   "execution_count": 143,
   "metadata": {},
   "outputs": [
    {
     "name": "stdout",
     "output_type": "stream",
     "text": [
      "<class 'pandas.core.frame.DataFrame'>\n",
      "Index: 562 entries, aml_ohsu_2018_17 to aml_ohsu_2018_4380\n",
      "Data columns (total 21 columns):\n",
      " #   Column                                   Non-Null Count  Dtype  \n",
      "---  ------                                   --------------  -----  \n",
      " 0   SEX                                      562 non-null    object \n",
      " 1   ETHNICITY                                562 non-null    object \n",
      " 2   AGE_AT_DIAGNOSIS                         556 non-null    float64\n",
      " 3   MDSMPN_DIAGNOSIS_AT_ACQUISITION          562 non-null    bool   \n",
      " 4   NON_AML_MDSMPN_DIAGNOSIS_AT_ACQUISITION  562 non-null    bool   \n",
      " 5   PRIOR_CANCER                             74 non-null     object \n",
      " 6   CHEMOTHERAPY                             562 non-null    object \n",
      " 7   PRIORRADIATIONFOROTHERCANCER             562 non-null    object \n",
      " 8   PRIOR_MDS                                562 non-null    object \n",
      " 9   MDS_TWO_MONTHS_PRIOR_AML                 562 non-null    object \n",
      " 10  PRIOR_MDSMPN                             562 non-null    object \n",
      " 11  MDSMPN_TWO_MONTHS_PRIOR_AML              562 non-null    object \n",
      " 12  PRIOR_MPN                                562 non-null    object \n",
      " 13  MPN_TWO_MONTHS_PRIOR_AML                 562 non-null    object \n",
      " 14  DIAGNOSIS_AT_INCLUSION                   562 non-null    object \n",
      " 15  DIAGNOSIS                                562 non-null    object \n",
      " 16  TREATMENT_TYPE                           533 non-null    object \n",
      " 17  OS_STATUS                                505 non-null    object \n",
      " 18  OS_MONTHS                                497 non-null    float64\n",
      " 19  CAUSE_OF_DEATH_SOURCE                    505 non-null    object \n",
      " 20  CENTER                                   562 non-null    int64  \n",
      "dtypes: bool(2), float64(2), int64(1), object(16)\n",
      "memory usage: 88.9+ KB\n",
      "None\n"
     ]
    }
   ],
   "source": [
    "print(meta_patient.info())"
   ]
  },
  {
   "cell_type": "code",
   "execution_count": 145,
   "metadata": {},
   "outputs": [
    {
     "name": "stdout",
     "output_type": "stream",
     "text": [
      "<class 'pandas.core.frame.DataFrame'>\n",
      "Index: 672 entries, aml_ohsu_2018_163 to aml_ohsu_2018_2747\n",
      "Data columns (total 74 columns):\n",
      " #   Column                                            Non-Null Count  Dtype  \n",
      "---  ------                                            --------------  -----  \n",
      " 0   SAMPLE_ID                                         672 non-null    object \n",
      " 1   SAMPLE_TIMEPOINT                                  442 non-null    object \n",
      " 2   FUSION                                            160 non-null    object \n",
      " 3   SPECIFIC_DIAGNOSIS_AT_INCLUSION                   672 non-null    object \n",
      " 4   ELN_2017                                          672 non-null    object \n",
      " 5   ELN_2008                                          658 non-null    object \n",
      " 6   SPECIFIC_DIAGNOSIS_AT_ACQUISITION                 672 non-null    object \n",
      " 7   GROUP                                             672 non-null    object \n",
      " 8   SAMPLE_SITE                                       672 non-null    object \n",
      " 9   PLATFORM                                          672 non-null    object \n",
      " 10  RNA_SEQUENCED                                     672 non-null    object \n",
      " 11  WHOLE_EXOME_SEQUENCING                            672 non-null    object \n",
      " 12  EX_VIVO_DRUG_TESTING                              672 non-null    object \n",
      " 13  RNA_SEQ_ANALYSIS                                  672 non-null    object \n",
      " 14  EXOME_SEQ_ANALYSIS                                672 non-null    object \n",
      " 15  DRUG_TESTING_IN_ANALYSIS                          672 non-null    object \n",
      " 16  CUMULATIVE_TREATMENT_TYPE_COUNT                   672 non-null    int64  \n",
      " 17  CUMULATIVE_TREATMENT_TYPES                        641 non-null    object \n",
      " 18  CUMULATIVE_TREATMENT_REGIMEN_COUNT                672 non-null    int64  \n",
      " 19  CUMULATIVE_TREATMENT_REGIMENS                     641 non-null    object \n",
      " 20  CUMULATIVE_TREATMENT_STAGE_COUNT                  672 non-null    int64  \n",
      " 21  CUMULATIVE_TREATMENT_STAGES                       641 non-null    object \n",
      " 22  INDUCTION_RESPONSE                                541 non-null    object \n",
      " 23  TYPE_INDUCTION_TREATMENT                          541 non-null    object \n",
      " 24  DURATION_OF_INDUCTION_TREATMENT                   541 non-null    float64\n",
      " 25  MOST_RECENT_TREATMENT_TYPE                        672 non-null    object \n",
      " 26  CURRENT_REGIMEN                                   672 non-null    object \n",
      " 27  CURRENT_STAGE                                     672 non-null    object \n",
      " 28  MOST_RECENT_TREATMENT_DURATION                    641 non-null    float64\n",
      " 29  KARYOTYPE_SAMPLE_ACQUISITION_INTERVAL_DIFFERENCE  672 non-null    int64  \n",
      " 30  PB_BASOPHILS_PERCENTAGE                           375 non-null    float64\n",
      " 31  BM_BLAST_PERCENTAGE                               459 non-null    float64\n",
      " 32  PB_BLAST_PERCENTAGE                               448 non-null    float64\n",
      " 33  CEBPA_BIALLELIC_MUTATION                          672 non-null    object \n",
      " 34  PB_EOSINOPHILS_PERCENTAGE                         404 non-null    float64\n",
      " 35  PB_IMMATURE_GRANULOCYTES_PERCENTAGE               186 non-null    float64\n",
      " 36  PB_LYMPHOCYTES_PERCENTAGE                         428 non-null    float64\n",
      " 37  PB_MONOCYTES_PERCENTAGE                           475 non-null    float64\n",
      " 38  PB_NEUTROPHILS_PERCENTAGE                         426 non-null    float64\n",
      " 39  PB_NUCLEATED_RBC_PERCENTAGE                       224 non-null    float64\n",
      " 40  PB_ALT_LEVEL                                      417 non-null    float64\n",
      " 41  PB_AST_LEVEL                                      416 non-null    float64\n",
      " 42  PB_ALBUMIN_LEVEL                                  414 non-null    float64\n",
      " 43  CREATININE_LEVEL_PRERESECTION                     393 non-null    float64\n",
      " 44  FAB                                               141 non-null    object \n",
      " 45  HEMATOCRIT_LEVEL                                  430 non-null    float64\n",
      " 46  HEMOGLOBIN_LEVEL                                  435 non-null    float64\n",
      " 47  KARYOTYPE                                         610 non-null    object \n",
      " 48  LDH_LEVEL                                         274 non-null    float64\n",
      " 49  MEAN_CORPUSCULAR_VOLUME                           354 non-null    float64\n",
      " 50  CYTOGENETICS_OTHER                                515 non-null    object \n",
      " 51  PLATELET_COUNT                                    490 non-null    float64\n",
      " 52  SURFACE_ANTIGENS                                  454 non-null    object \n",
      " 53  TOTAL_PROTEIN_LEVEL                               409 non-null    float64\n",
      " 54  WBC                                               578 non-null    float64\n",
      " 55  FLT3_ITD_CONSENSUS_CALL                           670 non-null    object \n",
      " 56  NPM1_CONSENSUS_CALL                               669 non-null    object \n",
      " 57  CEBPA_MUTATION                                    289 non-null    object \n",
      " 58  BRAF_MUTATION                                     58 non-null     object \n",
      " 59  DNMT3A_MUTATION                                   226 non-null    object \n",
      " 60  FLT3_NEGATIVE                                     274 non-null    object \n",
      " 61  IDH1_MUTATION                                     294 non-null    object \n",
      " 62  IDH2_NEGATIVE                                     229 non-null    object \n",
      " 63  JAK2_NEGATIVE                                     176 non-null    object \n",
      " 64  KIT_NEGATIVE                                      233 non-null    object \n",
      " 65  KRAS_MUTATION                                     205 non-null    object \n",
      " 66  NRAS_MUTATION                                     226 non-null    object \n",
      " 67  TP53_MUTATION                                     210 non-null    object \n",
      " 68  AGE_AT_PROCUREMENT                                669 non-null    float64\n",
      " 69  SOMATIC_STATUS                                    672 non-null    object \n",
      " 70  ONCOTREE_CODE                                     672 non-null    object \n",
      " 71  CANCER_TYPE                                       672 non-null    object \n",
      " 72  CANCER_TYPE_DETAILED                              672 non-null    object \n",
      " 73  TMB_NONSYNONYMOUS                                 622 non-null    float64\n",
      "dtypes: float64(24), int64(4), object(46)\n",
      "memory usage: 393.8+ KB\n",
      "None\n"
     ]
    }
   ],
   "source": [
    "print(meta_sample.info())"
   ]
  },
  {
   "cell_type": "code",
   "execution_count": 146,
   "metadata": {},
   "outputs": [
    {
     "name": "stdout",
     "output_type": "stream",
     "text": [
      "Index(['SAMPLE_ID', 'SAMPLE_TIMEPOINT', 'FUSION',\n",
      "       'SPECIFIC_DIAGNOSIS_AT_INCLUSION', 'ELN_2017', 'ELN_2008',\n",
      "       'SPECIFIC_DIAGNOSIS_AT_ACQUISITION', 'GROUP', 'SAMPLE_SITE', 'PLATFORM',\n",
      "       'RNA_SEQUENCED', 'WHOLE_EXOME_SEQUENCING', 'EX_VIVO_DRUG_TESTING',\n",
      "       'RNA_SEQ_ANALYSIS', 'EXOME_SEQ_ANALYSIS', 'DRUG_TESTING_IN_ANALYSIS',\n",
      "       'CUMULATIVE_TREATMENT_TYPE_COUNT', 'CUMULATIVE_TREATMENT_TYPES',\n",
      "       'CUMULATIVE_TREATMENT_REGIMEN_COUNT', 'CUMULATIVE_TREATMENT_REGIMENS',\n",
      "       'CUMULATIVE_TREATMENT_STAGE_COUNT', 'CUMULATIVE_TREATMENT_STAGES',\n",
      "       'INDUCTION_RESPONSE', 'TYPE_INDUCTION_TREATMENT',\n",
      "       'DURATION_OF_INDUCTION_TREATMENT', 'MOST_RECENT_TREATMENT_TYPE',\n",
      "       'CURRENT_REGIMEN', 'CURRENT_STAGE', 'MOST_RECENT_TREATMENT_DURATION',\n",
      "       'KARYOTYPE_SAMPLE_ACQUISITION_INTERVAL_DIFFERENCE',\n",
      "       'PB_BASOPHILS_PERCENTAGE', 'BM_BLAST_PERCENTAGE', 'PB_BLAST_PERCENTAGE',\n",
      "       'CEBPA_BIALLELIC_MUTATION', 'PB_EOSINOPHILS_PERCENTAGE',\n",
      "       'PB_IMMATURE_GRANULOCYTES_PERCENTAGE', 'PB_LYMPHOCYTES_PERCENTAGE',\n",
      "       'PB_MONOCYTES_PERCENTAGE', 'PB_NEUTROPHILS_PERCENTAGE',\n",
      "       'PB_NUCLEATED_RBC_PERCENTAGE', 'PB_ALT_LEVEL', 'PB_AST_LEVEL',\n",
      "       'PB_ALBUMIN_LEVEL', 'CREATININE_LEVEL_PRERESECTION', 'FAB',\n",
      "       'HEMATOCRIT_LEVEL', 'HEMOGLOBIN_LEVEL', 'KARYOTYPE', 'LDH_LEVEL',\n",
      "       'MEAN_CORPUSCULAR_VOLUME', 'CYTOGENETICS_OTHER', 'PLATELET_COUNT',\n",
      "       'SURFACE_ANTIGENS', 'TOTAL_PROTEIN_LEVEL', 'WBC',\n",
      "       'FLT3_ITD_CONSENSUS_CALL', 'NPM1_CONSENSUS_CALL', 'CEBPA_MUTATION',\n",
      "       'BRAF_MUTATION', 'DNMT3A_MUTATION', 'FLT3_NEGATIVE', 'IDH1_MUTATION',\n",
      "       'IDH2_NEGATIVE', 'JAK2_NEGATIVE', 'KIT_NEGATIVE', 'KRAS_MUTATION',\n",
      "       'NRAS_MUTATION', 'TP53_MUTATION', 'AGE_AT_PROCUREMENT',\n",
      "       'SOMATIC_STATUS', 'ONCOTREE_CODE', 'CANCER_TYPE',\n",
      "       'CANCER_TYPE_DETAILED', 'TMB_NONSYNONYMOUS'],\n",
      "      dtype='object')\n"
     ]
    }
   ],
   "source": [
    "print(meta_sample.columns)"
   ]
  },
  {
   "cell_type": "markdown",
   "metadata": {},
   "source": [
    "Primeiramente, verificaram-se informações sobre os dataframes referentes a metadados de pacientes e de amostras carregados. \n",
    "\n",
    "Nos metadados dos pacientes estão descritas 21 variáveis correspondentes às 21 colunas do dataframe, sendo que nas linhas estão os 562 pacientes cada um representado através de um ID único. \n",
    "\n",
    "Nos metadados das amostras estão descritas 74 variáveis correspondentes às 74 colunas do dataframe, sendo que nas linhas estão as 672 amostras representadas pelo seu ID único. Esta quantidade de amostras superior à dos pacientes é esperada dado que alguns pacientes fornecerão mais do que uma amostra.\n",
    "\n",
    "É possível notar que nem todas as amostras ou pacientes têm informação para todas as variáveis, existindo alguns valores omissos nos dois dataframes relativos aos metadados.\n",
    "\n",
    "Para facilitar a análise posterior, um único dataframe foi criado com apenas os metadados referentes a pacientes ou amostras que estejam presentes nos dados de RNA-seq e só com as variáveis que serão usadas posterioremente.\n"
   ]
  },
  {
   "cell_type": "code",
   "execution_count": 157,
   "metadata": {},
   "outputs": [
    {
     "name": "stdout",
     "output_type": "stream",
     "text": [
      "<class 'pandas.core.frame.DataFrame'>\n",
      "Index: 451 entries, aml_ohsu_2018_550 to aml_ohsu_2018_4310\n",
      "Data columns (total 74 columns):\n",
      " #   Column                                            Non-Null Count  Dtype  \n",
      "---  ------                                            --------------  -----  \n",
      " 0   SAMPLE_ID                                         451 non-null    object \n",
      " 1   SAMPLE_TIMEPOINT                                  317 non-null    object \n",
      " 2   FUSION                                            126 non-null    object \n",
      " 3   SPECIFIC_DIAGNOSIS_AT_INCLUSION                   451 non-null    object \n",
      " 4   ELN_2017                                          451 non-null    object \n",
      " 5   ELN_2008                                          445 non-null    object \n",
      " 6   SPECIFIC_DIAGNOSIS_AT_ACQUISITION                 451 non-null    object \n",
      " 7   GROUP                                             451 non-null    object \n",
      " 8   SAMPLE_SITE                                       451 non-null    object \n",
      " 9   PLATFORM                                          451 non-null    object \n",
      " 10  RNA_SEQUENCED                                     451 non-null    object \n",
      " 11  WHOLE_EXOME_SEQUENCING                            451 non-null    object \n",
      " 12  EX_VIVO_DRUG_TESTING                              451 non-null    object \n",
      " 13  RNA_SEQ_ANALYSIS                                  451 non-null    object \n",
      " 14  EXOME_SEQ_ANALYSIS                                451 non-null    object \n",
      " 15  DRUG_TESTING_IN_ANALYSIS                          451 non-null    object \n",
      " 16  CUMULATIVE_TREATMENT_TYPE_COUNT                   451 non-null    int64  \n",
      " 17  CUMULATIVE_TREATMENT_TYPES                        429 non-null    object \n",
      " 18  CUMULATIVE_TREATMENT_REGIMEN_COUNT                451 non-null    int64  \n",
      " 19  CUMULATIVE_TREATMENT_REGIMENS                     429 non-null    object \n",
      " 20  CUMULATIVE_TREATMENT_STAGE_COUNT                  451 non-null    int64  \n",
      " 21  CUMULATIVE_TREATMENT_STAGES                       429 non-null    object \n",
      " 22  INDUCTION_RESPONSE                                362 non-null    object \n",
      " 23  TYPE_INDUCTION_TREATMENT                          362 non-null    object \n",
      " 24  DURATION_OF_INDUCTION_TREATMENT                   362 non-null    float64\n",
      " 25  MOST_RECENT_TREATMENT_TYPE                        451 non-null    object \n",
      " 26  CURRENT_REGIMEN                                   451 non-null    object \n",
      " 27  CURRENT_STAGE                                     451 non-null    object \n",
      " 28  MOST_RECENT_TREATMENT_DURATION                    429 non-null    float64\n",
      " 29  KARYOTYPE_SAMPLE_ACQUISITION_INTERVAL_DIFFERENCE  451 non-null    int64  \n",
      " 30  PB_BASOPHILS_PERCENTAGE                           253 non-null    float64\n",
      " 31  BM_BLAST_PERCENTAGE                               300 non-null    float64\n",
      " 32  PB_BLAST_PERCENTAGE                               310 non-null    float64\n",
      " 33  CEBPA_BIALLELIC_MUTATION                          451 non-null    object \n",
      " 34  PB_EOSINOPHILS_PERCENTAGE                         274 non-null    float64\n",
      " 35  PB_IMMATURE_GRANULOCYTES_PERCENTAGE               128 non-null    float64\n",
      " 36  PB_LYMPHOCYTES_PERCENTAGE                         291 non-null    float64\n",
      " 37  PB_MONOCYTES_PERCENTAGE                           319 non-null    float64\n",
      " 38  PB_NEUTROPHILS_PERCENTAGE                         289 non-null    float64\n",
      " 39  PB_NUCLEATED_RBC_PERCENTAGE                       156 non-null    float64\n",
      " 40  PB_ALT_LEVEL                                      284 non-null    float64\n",
      " 41  PB_AST_LEVEL                                      283 non-null    float64\n",
      " 42  PB_ALBUMIN_LEVEL                                  285 non-null    float64\n",
      " 43  CREATININE_LEVEL_PRERESECTION                     271 non-null    float64\n",
      " 44  FAB                                               95 non-null     object \n",
      " 45  HEMATOCRIT_LEVEL                                  294 non-null    float64\n",
      " 46  HEMOGLOBIN_LEVEL                                  294 non-null    float64\n",
      " 47  KARYOTYPE                                         404 non-null    object \n",
      " 48  LDH_LEVEL                                         183 non-null    float64\n",
      " 49  MEAN_CORPUSCULAR_VOLUME                           235 non-null    float64\n",
      " 50  CYTOGENETICS_OTHER                                344 non-null    object \n",
      " 51  PLATELET_COUNT                                    325 non-null    float64\n",
      " 52  SURFACE_ANTIGENS                                  294 non-null    object \n",
      " 53  TOTAL_PROTEIN_LEVEL                               279 non-null    float64\n",
      " 54  WBC                                               381 non-null    float64\n",
      " 55  FLT3_ITD_CONSENSUS_CALL                           450 non-null    object \n",
      " 56  NPM1_CONSENSUS_CALL                               448 non-null    object \n",
      " 57  CEBPA_MUTATION                                    192 non-null    object \n",
      " 58  BRAF_MUTATION                                     39 non-null     object \n",
      " 59  DNMT3A_MUTATION                                   160 non-null    object \n",
      " 60  FLT3_NEGATIVE                                     171 non-null    object \n",
      " 61  IDH1_MUTATION                                     198 non-null    object \n",
      " 62  IDH2_NEGATIVE                                     158 non-null    object \n",
      " 63  JAK2_NEGATIVE                                     113 non-null    object \n",
      " 64  KIT_NEGATIVE                                      155 non-null    object \n",
      " 65  KRAS_MUTATION                                     142 non-null    object \n",
      " 66  NRAS_MUTATION                                     160 non-null    object \n",
      " 67  TP53_MUTATION                                     146 non-null    object \n",
      " 68  AGE_AT_PROCUREMENT                                450 non-null    float64\n",
      " 69  SOMATIC_STATUS                                    451 non-null    object \n",
      " 70  ONCOTREE_CODE                                     451 non-null    object \n",
      " 71  CANCER_TYPE                                       451 non-null    object \n",
      " 72  CANCER_TYPE_DETAILED                              451 non-null    object \n",
      " 73  TMB_NONSYNONYMOUS                                 405 non-null    float64\n",
      "dtypes: float64(24), int64(4), object(46)\n",
      "memory usage: 264.3+ KB\n",
      "None\n"
     ]
    }
   ],
   "source": [
    "samples_with_rna = meta_sample[meta_sample['RNA_SEQ_ANALYSIS'] == 'Yes']\n",
    "print(samples_with_rna.info())"
   ]
  },
  {
   "cell_type": "code",
   "execution_count": 190,
   "metadata": {},
   "outputs": [
    {
     "name": "stdout",
     "output_type": "stream",
     "text": [
      "<class 'pandas.core.frame.DataFrame'>\n",
      "Index: 411 entries, aml_ohsu_2018_29 to aml_ohsu_2018_4317\n",
      "Data columns (total 21 columns):\n",
      " #   Column                                   Non-Null Count  Dtype  \n",
      "---  ------                                   --------------  -----  \n",
      " 0   SEX                                      411 non-null    object \n",
      " 1   ETHNICITY                                411 non-null    object \n",
      " 2   AGE_AT_DIAGNOSIS                         408 non-null    float64\n",
      " 3   MDSMPN_DIAGNOSIS_AT_ACQUISITION          411 non-null    bool   \n",
      " 4   NON_AML_MDSMPN_DIAGNOSIS_AT_ACQUISITION  411 non-null    bool   \n",
      " 5   PRIOR_CANCER                             50 non-null     object \n",
      " 6   CHEMOTHERAPY                             411 non-null    object \n",
      " 7   PRIORRADIATIONFOROTHERCANCER             411 non-null    object \n",
      " 8   PRIOR_MDS                                411 non-null    object \n",
      " 9   MDS_TWO_MONTHS_PRIOR_AML                 411 non-null    object \n",
      " 10  PRIOR_MDSMPN                             411 non-null    object \n",
      " 11  MDSMPN_TWO_MONTHS_PRIOR_AML              411 non-null    object \n",
      " 12  PRIOR_MPN                                411 non-null    object \n",
      " 13  MPN_TWO_MONTHS_PRIOR_AML                 411 non-null    object \n",
      " 14  DIAGNOSIS_AT_INCLUSION                   411 non-null    object \n",
      " 15  DIAGNOSIS                                411 non-null    object \n",
      " 16  TREATMENT_TYPE                           391 non-null    object \n",
      " 17  OS_STATUS                                368 non-null    object \n",
      " 18  OS_MONTHS                                365 non-null    float64\n",
      " 19  CAUSE_OF_DEATH_SOURCE                    368 non-null    object \n",
      " 20  CENTER                                   411 non-null    int64  \n",
      "dtypes: bool(2), float64(2), int64(1), object(16)\n",
      "memory usage: 65.0+ KB\n",
      "None\n"
     ]
    }
   ],
   "source": [
    "#Filtrar para ter apenas metadados de pacientes com amostras cujo RNA foi sequenciado\n",
    "patients_with_rna = meta_patient[meta_patient.index.isin(samples_with_rna.index)]\n",
    "print(patients_with_rna.info())"
   ]
  },
  {
   "cell_type": "code",
   "execution_count": 197,
   "metadata": {},
   "outputs": [
    {
     "name": "stdout",
     "output_type": "stream",
     "text": [
      "Nº de colunas do dataframe \"metadados\": 31\n",
      "O dataframe \"metadados\" tem o número esperado de linhas e colunas, tendo 451 amostras e 31 variáveis (sendo uma das colunas é o ID de cada amostra).\n"
     ]
    }
   ],
   "source": [
    "# Merge dos metadados\n",
    "metadados = pd.merge(samples_with_rna, patients_with_rna, on='PATIENT_ID', how='outer')\n",
    "\n",
    "# Filtragem das variáveis de interesse\n",
    "variaveis_interesse = ['SAMPLE_ID', 'SAMPLE_TIMEPOINT', 'FUSION', 'ELN_2017', 'ELN_2008',\n",
    "                        'GROUP', 'SAMPLE_SITE', 'SEX', 'ETHNICITY', 'PRIOR_CANCER',\n",
    "                        'AGE_AT_DIAGNOSIS',  'AGE_AT_PROCUREMENT',  'DIAGNOSIS_AT_INCLUSION', 'DIAGNOSIS',\n",
    "                        'CUMULATIVE_TREATMENT_TYPE_COUNT', 'CUMULATIVE_TREATMENT_TYPES', \n",
    "                        'CUMULATIVE_TREATMENT_REGIMEN_COUNT', 'CUMULATIVE_TREATMENT_REGIMENS', \n",
    "                        'CUMULATIVE_TREATMENT_STAGE_COUNT', 'CUMULATIVE_TREATMENT_STAGES', \n",
    "                        'INDUCTION_RESPONSE', 'TYPE_INDUCTION_TREATMENT', 'CANCER_TYPE_DETAILED',\n",
    "                        'DURATION_OF_INDUCTION_TREATMENT', 'MOST_RECENT_TREATMENT_TYPE', 'CURRENT_REGIMEN', \n",
    "                        'CURRENT_STAGE', 'CYTOGENETICS_OTHER', 'SOMATIC_STATUS', 'ONCOTREE_CODE', 'CANCER_TYPE']\n",
    "print('Nº de colunas do dataframe \"metadados\":', len(variaveis_interesse))\n",
    "metadados = metadados[variaveis_interesse]\n",
    "\n",
    "if metadados.shape == (451, 31):\n",
    "    print('O dataframe \"metadados\" tem o número esperado de linhas e colunas, tendo 451 amostras e 31 variáveis (sendo uma das colunas é o ID de cada amostra).')"
   ]
  }
 ],
 "metadata": {
  "kernelspec": {
   "display_name": "base",
   "language": "python",
   "name": "python3"
  },
  "language_info": {
   "codemirror_mode": {
    "name": "ipython",
    "version": 3
   },
   "file_extension": ".py",
   "mimetype": "text/x-python",
   "name": "python",
   "nbconvert_exporter": "python",
   "pygments_lexer": "ipython3",
   "version": "3.11.8"
  }
 },
 "nbformat": 4,
 "nbformat_minor": 2
}
